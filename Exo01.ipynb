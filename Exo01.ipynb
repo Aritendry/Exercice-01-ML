{
 "cells": [
  {
   "cell_type": "code",
   "execution_count": 170,
   "metadata": {},
   "outputs": [],
   "source": [
    "import matplotlib.pyplot as plt\n",
    "import numpy as np"
   ]
  },
  {
   "cell_type": "code",
   "execution_count": 171,
   "metadata": {},
   "outputs": [
    {
     "data": {
      "text/plain": [
       "<matplotlib.collections.PathCollection at 0x7268cadf3b00>"
      ]
     },
     "execution_count": 171,
     "metadata": {},
     "output_type": "execute_result"
    },
    {
     "data": {
      "image/png": "[encoded data removed]",
      "text/plain": [
       "<Figure size 640x480 with 1 Axes>"
      ]
     },
     "metadata": {},
     "output_type": "display_data"
    }
   ],
   "source": [
    "x  = np.random.uniform(0,10,(100 , 1))\n",
    "b  = np.random.normal(0,10,(100 , 1))\n",
    "y  = 2*x + 5 + b\n",
    "plt.scatter(x , y )"
   ]
  },
  {
   "cell_type": "markdown",
   "metadata": {},
   "source": []
  },
  {
   "cell_type": "markdown",
   "metadata": {},
   "source": []
  },
  {
   "cell_type": "code",
   "execution_count": 172,
   "metadata": {},
   "outputs": [
    {
     "name": "stdout",
     "output_type": "stream",
     "text": [
      "(100, 1)\n",
      "(100, 1)\n"
     ]
    }
   ],
   "source": [
    "x = x.reshape(100 , 1)\n",
    "print(x.shape)\n",
    "y = y.reshape(100 , 1)\n",
    "print(y.shape)"
   ]
  },
  {
   "cell_type": "code",
   "execution_count": 173,
   "metadata": {},
   "outputs": [
    {
     "data": {
      "text/plain": [
       "array([[2.31603609, 1.        ],\n",
       "       [5.81134246, 1.        ],\n",
       "       [1.46144239, 1.        ],\n",
       "       [7.19486811, 1.        ],\n",
       "       [0.28772845, 1.        ],\n",
       "       [2.1208987 , 1.        ],\n",
       "       [0.10247508, 1.        ],\n",
       "       [5.88903064, 1.        ],\n",
       "       [7.3121004 , 1.        ],\n",
       "       [2.06093485, 1.        ],\n",
       "       [1.58977039, 1.        ],\n",
       "       [7.44774822, 1.        ],\n",
       "       [4.82199517, 1.        ],\n",
       "       [8.53445131, 1.        ],\n",
       "       [9.95716755, 1.        ],\n",
       "       [2.3106875 , 1.        ],\n",
       "       [7.80137728, 1.        ],\n",
       "       [7.60306851, 1.        ],\n",
       "       [9.11253433, 1.        ],\n",
       "       [0.19711289, 1.        ],\n",
       "       [2.24356112, 1.        ],\n",
       "       [9.92686858, 1.        ],\n",
       "       [2.15841835, 1.        ],\n",
       "       [0.26543008, 1.        ],\n",
       "       [3.50082819, 1.        ],\n",
       "       [3.6716016 , 1.        ],\n",
       "       [2.97945578, 1.        ],\n",
       "       [7.67587118, 1.        ],\n",
       "       [7.30415345, 1.        ],\n",
       "       [8.63473581, 1.        ],\n",
       "       [5.11678245, 1.        ],\n",
       "       [2.13417148, 1.        ],\n",
       "       [5.01489032, 1.        ],\n",
       "       [0.14549251, 1.        ],\n",
       "       [6.94591756, 1.        ],\n",
       "       [6.89827683, 1.        ],\n",
       "       [6.20846841, 1.        ],\n",
       "       [0.24841428, 1.        ],\n",
       "       [4.62133993, 1.        ],\n",
       "       [6.99498555, 1.        ],\n",
       "       [4.25501223, 1.        ],\n",
       "       [8.74697383, 1.        ],\n",
       "       [6.05089635, 1.        ],\n",
       "       [5.2072679 , 1.        ],\n",
       "       [2.32686678, 1.        ],\n",
       "       [2.99301775, 1.        ],\n",
       "       [6.6920338 , 1.        ],\n",
       "       [2.77832837, 1.        ],\n",
       "       [0.01297596, 1.        ],\n",
       "       [4.8304142 , 1.        ],\n",
       "       [9.7472405 , 1.        ],\n",
       "       [8.87572029, 1.        ],\n",
       "       [3.79883006, 1.        ],\n",
       "       [8.41258201, 1.        ],\n",
       "       [5.19020687, 1.        ],\n",
       "       [0.85131522, 1.        ],\n",
       "       [1.14873861, 1.        ],\n",
       "       [5.55587724, 1.        ],\n",
       "       [2.01439527, 1.        ],\n",
       "       [5.50756493, 1.        ],\n",
       "       [9.529143  , 1.        ],\n",
       "       [3.29764162, 1.        ],\n",
       "       [8.10175321, 1.        ],\n",
       "       [9.89155472, 1.        ],\n",
       "       [9.43370783, 1.        ],\n",
       "       [8.10340971, 1.        ],\n",
       "       [7.48436512, 1.        ],\n",
       "       [2.30094457, 1.        ],\n",
       "       [0.07027784, 1.        ],\n",
       "       [6.87722231, 1.        ],\n",
       "       [7.83565031, 1.        ],\n",
       "       [5.15841404, 1.        ],\n",
       "       [4.49915935, 1.        ],\n",
       "       [4.32467748, 1.        ],\n",
       "       [8.90304072, 1.        ],\n",
       "       [1.78438774, 1.        ],\n",
       "       [4.54859991, 1.        ],\n",
       "       [3.88274296, 1.        ],\n",
       "       [7.66431359, 1.        ],\n",
       "       [9.18057544, 1.        ],\n",
       "       [8.47389664, 1.        ],\n",
       "       [3.85795611, 1.        ],\n",
       "       [9.02596234, 1.        ],\n",
       "       [3.39131371, 1.        ],\n",
       "       [2.60459721, 1.        ],\n",
       "       [2.25110442, 1.        ],\n",
       "       [2.3074654 , 1.        ],\n",
       "       [1.22889985, 1.        ],\n",
       "       [1.61134951, 1.        ],\n",
       "       [5.4531776 , 1.        ],\n",
       "       [4.52219687, 1.        ],\n",
       "       [8.29552942, 1.        ],\n",
       "       [4.31250078, 1.        ],\n",
       "       [1.26710574, 1.        ],\n",
       "       [7.00001765, 1.        ],\n",
       "       [7.47689444, 1.        ],\n",
       "       [3.80900915, 1.        ],\n",
       "       [9.22298601, 1.        ],\n",
       "       [3.55532265, 1.        ],\n",
       "       [4.41960842, 1.        ]])"
      ]
     },
     "execution_count": 173,
     "metadata": {},
     "output_type": "execute_result"
    }
   ],
   "source": [
    "X = np.hstack((x , np.ones(x.shape)))\n",
    "X"
   ]
  },
  {
   "cell_type": "code",
   "execution_count": 174,
   "metadata": {},
   "outputs": [
    {
     "data": {
      "text/plain": [
       "array([[-2.93371183],\n",
       "       [ 0.71728328]])"
      ]
     },
     "execution_count": 174,
     "metadata": {},
     "output_type": "execute_result"
    }
   ],
   "source": [
    "theta = np.random.randn(2,1)\n",
    "theta"
   ]
  },
  {
   "cell_type": "code",
   "execution_count": 175,
   "metadata": {},
   "outputs": [],
   "source": [
    "def model(X , theta):\n",
    "    return X.dot(theta)"
   ]
  },
  {
   "cell_type": "code",
   "execution_count": 176,
   "metadata": {},
   "outputs": [
    {
     "data": {
      "text/plain": [
       "array([[-6.07729918e+00],\n",
       "       [-1.63315208e+01],\n",
       "       [-3.57016754e+00],\n",
       "       [-2.03903864e+01],\n",
       "       [-1.26829081e-01],\n",
       "       [-5.50482231e+00],\n",
       "       [ 4.16650936e-01],\n",
       "       [-1.65594356e+01],\n",
       "       [-2.07343121e+01],\n",
       "       [-5.32890567e+00],\n",
       "       [-3.94664491e+00],\n",
       "       [-2.11322637e+01],\n",
       "       [-1.34290610e+01],\n",
       "       [-2.43203375e+01],\n",
       "       [-2.84941769e+01],\n",
       "       [-6.06160797e+00],\n",
       "       [-2.21697095e+01],\n",
       "       [-2.15879287e+01],\n",
       "       [-2.60162665e+01],\n",
       "       [ 1.39010851e-01],\n",
       "       [-5.86467852e+00],\n",
       "       [-2.84052885e+01],\n",
       "       [-5.61489418e+00],\n",
       "       [-6.14120840e-02],\n",
       "       [-9.55313777e+00],\n",
       "       [-1.00541377e+01],\n",
       "       [-8.02358138e+00],\n",
       "       [-2.18015108e+01],\n",
       "       [-2.07109981e+01],\n",
       "       [-2.46145433e+01],\n",
       "       [-1.42938819e+01],\n",
       "       [-5.54376084e+00],\n",
       "       [-1.39949598e+01],\n",
       "       [ 2.90450168e-01],\n",
       "       [-1.96600372e+01],\n",
       "       [-1.95202730e+01],\n",
       "       [-1.74965739e+01],\n",
       "       [-1.14926301e-02],\n",
       "       [-1.28403963e+01],\n",
       "       [-1.98039886e+01],\n",
       "       [-1.17656964e+01],\n",
       "       [-2.49438173e+01],\n",
       "       [-1.70343029e+01],\n",
       "       [-1.45593401e+01],\n",
       "       [-6.10907331e+00],\n",
       "       [-8.06336828e+00],\n",
       "       [-1.89152154e+01],\n",
       "       [-7.43353153e+00],\n",
       "       [ 6.79215557e-01],\n",
       "       [-1.34537600e+01],\n",
       "       [-2.78783114e+01],\n",
       "       [-2.53215223e+01],\n",
       "       [-1.04273894e+01],\n",
       "       [-2.39628080e+01],\n",
       "       [-1.45092880e+01],\n",
       "       [-1.78023025e+00],\n",
       "       [-2.65278477e+00],\n",
       "       [-1.55820595e+01],\n",
       "       [-5.19237196e+00],\n",
       "       [-1.54403251e+01],\n",
       "       [-2.72384762e+01],\n",
       "       [-8.95704694e+00],\n",
       "       [-2.30509259e+01],\n",
       "       [-2.83016878e+01],\n",
       "       [-2.69584969e+01],\n",
       "       [-2.30557856e+01],\n",
       "       [-2.12396872e+01],\n",
       "       [-6.03302502e+00],\n",
       "       [ 5.11108347e-01],\n",
       "       [-1.94585051e+01],\n",
       "       [-2.22702567e+01],\n",
       "       [-1.44160170e+01],\n",
       "       [-1.24819537e+01],\n",
       "       [-1.19700742e+01],\n",
       "       [-2.54016726e+01],\n",
       "       [-4.51759615e+00],\n",
       "       [-1.26269981e+01],\n",
       "       [-1.06735657e+01],\n",
       "       [-2.17676041e+01],\n",
       "       [-2.62158794e+01],\n",
       "       [-2.41426875e+01],\n",
       "       [-1.06008482e+01],\n",
       "       [-2.57622892e+01],\n",
       "       [-9.23185386e+00],\n",
       "       [-6.92385435e+00],\n",
       "       [-5.88680839e+00],\n",
       "       [-6.05215527e+00],\n",
       "       [-2.88795474e+00],\n",
       "       [-4.00995183e+00],\n",
       "       [-1.52807683e+01],\n",
       "       [-1.25495392e+01],\n",
       "       [-2.36194095e+01],\n",
       "       [-1.19343513e+01],\n",
       "       [-3.00003983e+00],\n",
       "       [-1.98187513e+01],\n",
       "       [-2.12177704e+01],\n",
       "       [-1.04572519e+01],\n",
       "       [-2.63402999e+01],\n",
       "       [-9.71300882e+00],\n",
       "       [-1.22485742e+01]])"
      ]
     },
     "execution_count": 176,
     "metadata": {},
     "output_type": "execute_result"
    }
   ],
   "source": [
    "model(X , theta)"
   ]
  },
  {
   "cell_type": "code",
   "execution_count": 177,
   "metadata": {},
   "outputs": [
    {
     "data": {
      "text/plain": [
       "<matplotlib.collections.PathCollection at 0x7268cd296450>"
      ]
     },
     "execution_count": 177,
     "metadata": {},
     "output_type": "execute_result"
    },
    {
     "data": {
      "image/png": "[encoded data removed]",
      "text/plain": [
       "<Figure size 640x480 with 1 Axes>"
      ]
     },
     "metadata": {},
     "output_type": "display_data"
    }
   ],
   "source": [
    "plt.plot(x , model(X,theta) , c=\"r\")\n",
    "plt.scatter(x , y )"
   ]
  },
  {
   "cell_type": "code",
   "execution_count": 178,
   "metadata": {},
   "outputs": [],
   "source": [
    "def cost_function(X , y , theta) : \n",
    "    m = len(y)\n",
    "    return 1/(2*m)*np.sum(((model(X , theta)) - y)**2)"
   ]
  },
  {
   "cell_type": "code",
   "execution_count": 179,
   "metadata": {},
   "outputs": [
    {
     "data": {
      "text/plain": [
       "np.float64(560.8660997166456)"
      ]
     },
     "execution_count": 179,
     "metadata": {},
     "output_type": "execute_result"
    }
   ],
   "source": [
    "cost_function(X , y ,theta)"
   ]
  },
  {
   "cell_type": "code",
   "execution_count": 180,
   "metadata": {},
   "outputs": [],
   "source": [
    "def gradient (X , y , theta):\n",
    "    m = len(y)\n",
    "    return 1/m * X.T.dot((model(X , theta)) - y)"
   ]
  },
  {
   "cell_type": "code",
   "execution_count": 181,
   "metadata": {},
   "outputs": [
    {
     "data": {
      "text/plain": [
       "array([[-183.25948361],\n",
       "       [ -27.99249487]])"
      ]
     },
     "execution_count": 181,
     "metadata": {},
     "output_type": "execute_result"
    }
   ],
   "source": [
    "gradient (X , y , theta)"
   ]
  },
  {
   "cell_type": "code",
   "execution_count": 182,
   "metadata": {},
   "outputs": [],
   "source": [
    "def gradient_descent(X , y , theta ,  learning_rate , n_iteration):\n",
    "    for i in range(n_iteration):\n",
    "        theta = theta - learning_rate * gradient(X , y , theta)\n",
    "    return theta\n"
   ]
  },
  {
   "cell_type": "code",
   "execution_count": 183,
   "metadata": {},
   "outputs": [
    {
     "data": {
      "text/plain": [
       "array([[2.22546809],\n",
       "       [2.95528312]])"
      ]
     },
     "execution_count": 183,
     "metadata": {},
     "output_type": "execute_result"
    }
   ],
   "source": [
    "theta_f =  gradient_descent (X , y ,theta ,  learning_rate=0.01 , n_iteration=1000)\n",
    "theta_f"
   ]
  },
  {
   "cell_type": "code",
   "execution_count": 184,
   "metadata": {},
   "outputs": [
    {
     "data": {
      "text/plain": [
       "array([[2.22546809],\n",
       "       [2.95528312]])"
      ]
     },
     "execution_count": 184,
     "metadata": {},
     "output_type": "execute_result"
    }
   ],
   "source": [
    "theta_f"
   ]
  },
  {
   "cell_type": "code",
   "execution_count": 185,
   "metadata": {},
   "outputs": [
    {
     "data": {
      "text/plain": [
       "<matplotlib.collections.PathCollection at 0x7268ccad11c0>"
      ]
     },
     "execution_count": 185,
     "metadata": {},
     "output_type": "execute_result"
    },
    {
     "data": {
      "image/png": "[encoded data removed]",
      "text/plain": [
       "<Figure size 640x480 with 1 Axes>"
      ]
     },
     "metadata": {},
     "output_type": "display_data"
    }
   ],
   "source": [
    "prediction = model(X , theta_f)\n",
    "plt.plot(x , prediction ,  c =\"r\")\n",
    "plt.scatter(x , y )"
   ]
  }
 ],
 "metadata": {
  "kernelspec": {
   "display_name": "pymodule",
   "language": "python",
   "name": "python3"
  },
  "language_info": {
   "codemirror_mode": {
    "name": "ipython",
    "version": 3
   },
   "file_extension": ".py",
   "mimetype": "text/x-python",
   "name": "python",
   "nbconvert_exporter": "python",
   "pygments_lexer": "ipython3",
   "version": "3.12.3"
  }
 },
 "nbformat": 4,
 "nbformat_minor": 2
}
